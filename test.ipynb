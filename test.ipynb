{
 "cells": [
  {
   "cell_type": "code",
   "execution_count": 16,
   "metadata": {},
   "outputs": [
    {
     "data": {
      "text/plain": [
       "'/var/folders/rs/vhdfblg56k72glghdrj8jknm0000gp/T/prexr6i99glsuffix'"
      ]
     },
     "execution_count": 16,
     "metadata": {},
     "output_type": "execute_result"
    }
   ],
   "source": [
    "import tempfile\n",
    "import filetype\n",
    "\n",
    "# filetype.guess(open(tempfile.NamedTemporaryFile(mode=\"wb+\", delete=False,).name, 'rb').read()).extension\n",
    "# filetype.guess(open('/Users/ringo/Desktop/IceCube_Simulation.pdf', 'rb').read()).extension\n",
    "tempfile.mkdtemp('suffix', 'pre')"
   ]
  },
  {
   "cell_type": "code",
   "execution_count": 1,
   "metadata": {},
   "outputs": [
    {
     "data": {
      "text/plain": [
       "datetime.datetime(1970, 1, 1, 8, 0)"
      ]
     },
     "execution_count": 1,
     "metadata": {},
     "output_type": "execute_result"
    }
   ],
   "source": [
    "import datetime\n",
    "datetime.datetime.fromtimestamp(0)"
   ]
  },
  {
   "cell_type": "code",
   "execution_count": 5,
   "metadata": {},
   "outputs": [
    {
     "data": {
      "text/plain": [
       "'hep-ph/0305062'"
      ]
     },
     "execution_count": 5,
     "metadata": {},
     "output_type": "execute_result"
    }
   ],
   "source": [
    "import re\n",
    "def find_arxivid_in_text(text):\n",
    "    \"\"\"\n",
    "    Try to find a arxivid in a text\n",
    "    \"\"\"\n",
    "    forbidden_arxivid_characters = r'\"\\(\\)\\s%!$^\\'<>@,;:#?&'\n",
    "    # Sometimes it is in the javascript defined\n",
    "    regex = re.compile(\n",
    "        r'(arxiv(.org|.com)(/abs|/pdf)?/)?(?P<arxivid>\\d{4}\\.\\d{4,5}(v\\d{1,})?|[a-zA-Z-]+/\\d+)', re.I\n",
    "    )\n",
    "    miter = regex.finditer(text)\n",
    "    try:\n",
    "        m = next(miter)\n",
    "        if m:\n",
    "            arxivid = m.group('arxivid')\n",
    "            return arxivid\n",
    "    except StopIteration:\n",
    "        pass\n",
    "    return None\n",
    "\n",
    "find_arxivid_in_text('https://arxiv.org/pdf/2001.09355.pdf https://arxiv.org/pdf/2001.09355.pdf')\n",
    "find_arxivid_in_text('https://arxiv.org/pdf/hep-ph/0305062.pdf')"
   ]
  },
  {
   "cell_type": "code",
   "execution_count": null,
   "metadata": {},
   "outputs": [],
   "source": []
  }
 ],
 "metadata": {
  "kernelspec": {
   "display_name": "Python 3.9.5 ('base')",
   "language": "python",
   "name": "python3"
  },
  "language_info": {
   "codemirror_mode": {
    "name": "ipython",
    "version": 3
   },
   "file_extension": ".py",
   "mimetype": "text/x-python",
   "name": "python",
   "nbconvert_exporter": "python",
   "pygments_lexer": "ipython3",
   "version": "3.9.16"
  },
  "orig_nbformat": 4,
  "vscode": {
   "interpreter": {
    "hash": "cb5eea4dcfee283daf766ec04cdcfebdc21d2721c538fa6489f76b9d3ba925b4"
   }
  }
 },
 "nbformat": 4,
 "nbformat_minor": 2
}
