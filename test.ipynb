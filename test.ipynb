{
 "cells": [
  {
   "cell_type": "code",
   "execution_count": 16,
   "metadata": {},
   "outputs": [
    {
     "data": {
      "text/plain": [
       "'/var/folders/rs/vhdfblg56k72glghdrj8jknm0000gp/T/prexr6i99glsuffix'"
      ]
     },
     "execution_count": 16,
     "metadata": {},
     "output_type": "execute_result"
    }
   ],
   "source": [
    "import tempfile\n",
    "import filetype\n",
    "\n",
    "# filetype.guess(open(tempfile.NamedTemporaryFile(mode=\"wb+\", delete=False,).name, 'rb').read()).extension\n",
    "# filetype.guess(open('/Users/ringo/Desktop/IceCube_Simulation.pdf', 'rb').read()).extension\n",
    "tempfile.mkdtemp('suffix', 'pre')"
   ]
  },
  {
   "cell_type": "code",
   "execution_count": 1,
   "metadata": {},
   "outputs": [
    {
     "data": {
      "text/plain": [
       "datetime.datetime(1970, 1, 1, 8, 0)"
      ]
     },
     "execution_count": 1,
     "metadata": {},
     "output_type": "execute_result"
    }
   ],
   "source": [
    "import datetime\n",
    "datetime.datetime.fromtimestamp(0)"
   ]
  }
 ],
 "metadata": {
  "kernelspec": {
   "display_name": "Python 3.9.5 ('base')",
   "language": "python",
   "name": "python3"
  },
  "language_info": {
   "codemirror_mode": {
    "name": "ipython",
    "version": 3
   },
   "file_extension": ".py",
   "mimetype": "text/x-python",
   "name": "python",
   "nbconvert_exporter": "python",
   "pygments_lexer": "ipython3",
   "version": "3.9.5"
  },
  "orig_nbformat": 4,
  "vscode": {
   "interpreter": {
    "hash": "cb5eea4dcfee283daf766ec04cdcfebdc21d2721c538fa6489f76b9d3ba925b4"
   }
  }
 },
 "nbformat": 4,
 "nbformat_minor": 2
}
